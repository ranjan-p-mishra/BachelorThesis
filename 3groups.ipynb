{
 "cells": [
  {
   "cell_type": "code",
   "execution_count": 1,
   "metadata": {},
   "outputs": [],
   "source": [
    "import pandas as pd\n",
    "import numpy as np\n",
    "import matplotlib.pyplot as plt \n",
    "import seaborn as sns"
   ]
  },
  {
   "attachments": {},
   "cell_type": "markdown",
   "metadata": {},
   "source": [
    "#### Generating Subgroups "
   ]
  },
  {
   "attachments": {},
   "cell_type": "markdown",
   "metadata": {},
   "source": [
    "##### As a next step in our EDA, we also explored the possibilities of generating subject groups which have the same progression of KLG over the timepoints where their data were collected. As we can recall from our initial exploration, there were 4503 unique subjects examined in this dataset. So, we made a groupby function that brings together the subjects having the same KLG progression."
   ]
  },
  {
   "attachments": {},
   "cell_type": "markdown",
   "metadata": {},
   "source": [
    "#### The figure below shows how KLG has progressed for a patient at different timepoints."
   ]
  },
  {
   "cell_type": "code",
   "execution_count": 2,
   "metadata": {},
   "outputs": [
    {
     "data": {
      "text/html": [
       "<div>\n",
       "<style scoped>\n",
       "    .dataframe tbody tr th:only-of-type {\n",
       "        vertical-align: middle;\n",
       "    }\n",
       "\n",
       "    .dataframe tbody tr th {\n",
       "        vertical-align: top;\n",
       "    }\n",
       "\n",
       "    .dataframe thead th {\n",
       "        text-align: right;\n",
       "    }\n",
       "</style>\n",
       "<table border=\"1\" class=\"dataframe\">\n",
       "  <thead>\n",
       "    <tr style=\"text-align: right;\">\n",
       "      <th></th>\n",
       "      <th>ID</th>\n",
       "      <th>LATERALITY</th>\n",
       "      <th>KLG</th>\n",
       "      <th>NEWKLG</th>\n",
       "    </tr>\n",
       "  </thead>\n",
       "  <tbody>\n",
       "    <tr>\n",
       "      <th>0</th>\n",
       "      <td>9000099</td>\n",
       "      <td>LEFT</td>\n",
       "      <td>[3, 4, 4]</td>\n",
       "      <td>344</td>\n",
       "    </tr>\n",
       "    <tr>\n",
       "      <th>1</th>\n",
       "      <td>9000099</td>\n",
       "      <td>RIGHT</td>\n",
       "      <td>[2, 2, 2, 2, 2]</td>\n",
       "      <td>22222</td>\n",
       "    </tr>\n",
       "    <tr>\n",
       "      <th>2</th>\n",
       "      <td>9000296</td>\n",
       "      <td>LEFT</td>\n",
       "      <td>[3, 3, 3, 3]</td>\n",
       "      <td>3333</td>\n",
       "    </tr>\n",
       "    <tr>\n",
       "      <th>3</th>\n",
       "      <td>9000296</td>\n",
       "      <td>RIGHT</td>\n",
       "      <td>[2, 2, 2, 2]</td>\n",
       "      <td>2222</td>\n",
       "    </tr>\n",
       "    <tr>\n",
       "      <th>4</th>\n",
       "      <td>9000622</td>\n",
       "      <td>LEFT</td>\n",
       "      <td>[1, 1]</td>\n",
       "      <td>11</td>\n",
       "    </tr>\n",
       "    <tr>\n",
       "      <th>...</th>\n",
       "      <td>...</td>\n",
       "      <td>...</td>\n",
       "      <td>...</td>\n",
       "      <td>...</td>\n",
       "    </tr>\n",
       "    <tr>\n",
       "      <th>8886</th>\n",
       "      <td>9999862</td>\n",
       "      <td>RIGHT</td>\n",
       "      <td>[2, 3, 3, 3]</td>\n",
       "      <td>2333</td>\n",
       "    </tr>\n",
       "    <tr>\n",
       "      <th>8887</th>\n",
       "      <td>9999865</td>\n",
       "      <td>LEFT</td>\n",
       "      <td>[1, 1, 1, 1, 2]</td>\n",
       "      <td>11112</td>\n",
       "    </tr>\n",
       "    <tr>\n",
       "      <th>8888</th>\n",
       "      <td>9999865</td>\n",
       "      <td>RIGHT</td>\n",
       "      <td>[0, 0, 0, 0, 0, 0]</td>\n",
       "      <td>000000</td>\n",
       "    </tr>\n",
       "    <tr>\n",
       "      <th>8889</th>\n",
       "      <td>9999878</td>\n",
       "      <td>LEFT</td>\n",
       "      <td>[1, 1, 1, 1, 1, 1]</td>\n",
       "      <td>111111</td>\n",
       "    </tr>\n",
       "    <tr>\n",
       "      <th>8890</th>\n",
       "      <td>9999878</td>\n",
       "      <td>RIGHT</td>\n",
       "      <td>[2, 2, 2, 2]</td>\n",
       "      <td>2222</td>\n",
       "    </tr>\n",
       "  </tbody>\n",
       "</table>\n",
       "<p>8891 rows × 4 columns</p>\n",
       "</div>"
      ],
      "text/plain": [
       "           ID LATERALITY                 KLG  NEWKLG\n",
       "0     9000099       LEFT           [3, 4, 4]     344\n",
       "1     9000099      RIGHT     [2, 2, 2, 2, 2]   22222\n",
       "2     9000296       LEFT        [3, 3, 3, 3]    3333\n",
       "3     9000296      RIGHT        [2, 2, 2, 2]    2222\n",
       "4     9000622       LEFT              [1, 1]      11\n",
       "...       ...        ...                 ...     ...\n",
       "8886  9999862      RIGHT        [2, 3, 3, 3]    2333\n",
       "8887  9999865       LEFT     [1, 1, 1, 1, 2]   11112\n",
       "8888  9999865      RIGHT  [0, 0, 0, 0, 0, 0]  000000\n",
       "8889  9999878       LEFT  [1, 1, 1, 1, 1, 1]  111111\n",
       "8890  9999878      RIGHT        [2, 2, 2, 2]    2222\n",
       "\n",
       "[8891 rows x 4 columns]"
      ]
     },
     "execution_count": 2,
     "metadata": {},
     "output_type": "execute_result"
    }
   ],
   "source": [
    "data = pd.read_csv(\"data/knee_features.csv\")\n",
    "data = data.dropna()\n",
    "data = data.drop_duplicates()\n",
    "data = data.sort_index().sort_values(by = ['ID','LATERALITY'], kind='mergesort').reset_index()\n",
    "data[\"KLG\"] = data[\"KLG\"].astype(int)\n",
    "data[\"KLG\"] = data[\"KLG\"].astype(str)\n",
    "data = data.groupby([\"ID\", \"LATERALITY\"]).agg({\"KLG\" : lambda x: [item if isinstance(item, str) else +(item) for item in x]}).reset_index()\n",
    "data[\"NEWKLG\"] = data[\"KLG\"].apply(''.join)\n",
    "data"
   ]
  },
  {
   "cell_type": "code",
   "execution_count": 3,
   "metadata": {},
   "outputs": [
    {
     "data": {
      "text/plain": [
       "0000000    970\n",
       "22222      843\n",
       "000000     472\n",
       "2222       468\n",
       "00000      456\n",
       "1111111    361\n",
       "33333      351\n",
       "000        312\n",
       "0000       295\n",
       "00         261\n",
       "222        252\n",
       "3333       206\n",
       "22         189\n",
       "111111     185\n",
       "11111      181\n",
       "33         153\n",
       "333        150\n",
       "1111       143\n",
       "111        127\n",
       "2          120\n",
       "Name: NEWKLG, dtype: int64"
      ]
     },
     "execution_count": 3,
     "metadata": {},
     "output_type": "execute_result"
    }
   ],
   "source": [
    "data[\"NEWKLG\"].value_counts().head(20)"
   ]
  },
  {
   "attachments": {},
   "cell_type": "markdown",
   "metadata": {},
   "source": [
    "### Subject Groups Generation"
   ]
  },
  {
   "cell_type": "code",
   "execution_count": 4,
   "metadata": {},
   "outputs": [
    {
     "data": {
      "text/plain": [
       "<AxesSubplot:>"
      ]
     },
     "execution_count": 4,
     "metadata": {},
     "output_type": "execute_result"
    },
    {
     "data": {
      "image/png": "[encoded data removed]",
      "text/plain": [
       "<Figure size 432x288 with 1 Axes>"
      ]
     },
     "metadata": {
      "needs_background": "light"
     },
     "output_type": "display_data"
    }
   ],
   "source": [
    "data['NEWKLG'].value_counts()[:20].plot(kind='bar')"
   ]
  },
  {
   "attachments": {},
   "cell_type": "markdown",
   "metadata": {},
   "source": [
    "#### Interpretation"
   ]
  },
  {
   "attachments": {},
   "cell_type": "markdown",
   "metadata": {},
   "source": [
    "##### The figure above can be read as follows. The most popular group is 00000000 which has close to 1000 subjects. Here, the KLG levels remained the same over all the timepoints where data were collected. Second comes the group 22222 where data was only collected for the five timepoints and the KLG levels of all the subjects in this group remained 2 over those timepoints. 6 out of the top 10 results are the different variants of zero KLG scale. Most of the top observations are the KLG levels that remains the same over all the available timepoints. "
   ]
  }
 ],
 "metadata": {
  "kernelspec": {
   "display_name": "Python 3.9.7 ('base')",
   "language": "python",
   "name": "python3"
  },
  "language_info": {
   "codemirror_mode": {
    "name": "ipython",
    "version": 3
   },
   "file_extension": ".py",
   "mimetype": "text/x-python",
   "name": "python",
   "nbconvert_exporter": "python",
   "pygments_lexer": "ipython3",
   "version": "3.9.7"
  },
  "orig_nbformat": 4,
  "vscode": {
   "interpreter": {
    "hash": "40d3a090f54c6569ab1632332b64b2c03c39dcf918b08424e98f38b5ae0af88f"
   }
  }
 },
 "nbformat": 4,
 "nbformat_minor": 2
}
