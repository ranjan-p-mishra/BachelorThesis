{
 "cells": [
  {
   "cell_type": "code",
   "execution_count": 1,
   "metadata": {},
   "outputs": [],
   "source": [
    "import pandas as pd\n",
    "import numpy as np\n",
    "import matplotlib.pyplot as plt\n",
    "from sklearn.model_selection import train_test_split, cross_val_score\n",
    "from sklearn.preprocessing import StandardScaler\n",
    "from sklearn.ensemble import GradientBoostingClassifier\n",
    "from sklearn.ensemble import RandomForestClassifier, GradientBoostingClassifier\n",
    "from sklearn.tree import DecisionTreeClassifier\n",
    "from sklearn.neighbors import KNeighborsClassifier\n",
    "from sklearn.naive_bayes import GaussianNB\n",
    "from sklearn.svm import SVC\n",
    "from sklearn.linear_model import LogisticRegression\n",
    "from sklearn.metrics import classification_report\n",
    "plt.style.use(\"seaborn\") "
   ]
  },
  {
   "cell_type": "code",
   "execution_count": 2,
   "metadata": {},
   "outputs": [],
   "source": [
    "data = pd.read_csv(\"data/knee_features.csv\")\n",
    "data = data.dropna().drop_duplicates().reindex()\n",
    "data[\"LATERALITY\"] = np.where(data[\"LATERALITY\"] == \"RIGHT\", 0, 1) # Use laterality as binary variables\n",
    "data_x = data.drop([\"KLG\", \"ID\", \"TIMEPOINT\"], axis = 1)\n",
    "scaler = StandardScaler()\n",
    "data_x = scaler.fit_transform(data_x) # Standardizes the data on a scale of 0 to 1\n",
    "data_y = data.KLG.astype(int) # Use the KLG variable as predictor"
   ]
  },
  {
   "cell_type": "code",
   "execution_count": 3,
   "metadata": {},
   "outputs": [],
   "source": [
    "X_train_and_cal, X_test, y_train_and_cal, y_test = train_test_split(data_x, data_y, test_size=1/3)\n",
    "X_train, X_cal, y_train, y_cal = train_test_split(X_train_and_cal, y_train_and_cal, test_size=1/3) "
   ]
  },
  {
   "attachments": {},
   "cell_type": "markdown",
   "metadata": {},
   "source": [
    "#### Logistic Regression"
   ]
  },
  {
   "cell_type": "code",
   "execution_count": 4,
   "metadata": {},
   "outputs": [
    {
     "name": "stdout",
     "output_type": "stream",
     "text": [
      "---------- ---------- ---------- ---------- ---------- ---------- ---------- ----------\n",
      "Training Accuracy: 0.48272161408027475\n",
      "Test Accuracy: 0.47617684933466875\n",
      "---------- ---------- ---------- ---------- ---------- ---------- ---------- ----------\n",
      "          Original dataset                                                  \\\n",
      "                         0         1         2         3        4 accuracy   \n",
      "precision            0.554     0.291     0.370     0.385    0.424    0.476   \n",
      "recall               0.762     0.022     0.322     0.488    0.653    0.476   \n",
      "f1-score             0.641     0.040     0.344     0.431    0.514    0.476   \n",
      "support           5623.000  2638.000  3377.000  1801.000  539.000    0.476   \n",
      "\n",
      "                                   \n",
      "           macro avg weighted avg  \n",
      "precision      0.405        0.433  \n",
      "recall         0.449        0.476  \n",
      "f1-score       0.394        0.424  \n",
      "support    13978.000    13978.000  \n",
      "---------- ---------- ---------- ---------- ---------- ---------- ---------- ----------\n",
      "Cross Validation Scores: [0.49350185 0.49016335 0.47817792 0.47650847 0.43966134]\n",
      "---------- ---------- ---------- ---------- ---------- ---------- ---------- ----------\n"
     ]
    }
   ],
   "source": [
    "LogRes = LogisticRegression(penalty=\"l1\", multi_class=\"ovr\", class_weight=\"balanced\", solver=\"liblinear\").fit(X_train, y_train)\n",
    "\n",
    "# Training the Algorithm\n",
    "predictions_LogRes = LogRes.predict(X_test)\n",
    "print(\"---------- ---------- ---------- ---------- ---------- ---------- ---------- ----------\")\n",
    "print(\"Training Accuracy: \" +str(LogRes.score(X_train,y_train)))\n",
    "print(\"Test Accuracy: \" +str(LogRes.score(X_test,y_test)))\n",
    "print(\"---------- ---------- ---------- ---------- ---------- ---------- ---------- ----------\")\n",
    "\n",
    "# Classification Report\n",
    "classif_report = pd.concat({\n",
    "    \"Original dataset\": pd.DataFrame(\n",
    "        classification_report(y_test, predictions_LogRes, output_dict=True)\n",
    "    )\n",
    "}, axis=1).round(3)\n",
    "print(classif_report)\n",
    "print(\"---------- ---------- ---------- ---------- ---------- ---------- ---------- ----------\")\n",
    "\n",
    "# Cross Validation\n",
    "print(\"Cross Validation Scores:\", cross_val_score(LogRes, data_x, data_y, cv=5))\n",
    "print(\"---------- ---------- ---------- ---------- ---------- ---------- ---------- ----------\")"
   ]
  },
  {
   "attachments": {},
   "cell_type": "markdown",
   "metadata": {},
   "source": [
    "#### Gaussian Naive Bayes"
   ]
  },
  {
   "cell_type": "code",
   "execution_count": 5,
   "metadata": {},
   "outputs": [
    {
     "name": "stdout",
     "output_type": "stream",
     "text": [
      "---------- ---------- ---------- ---------- ---------- ---------- ---------- ----------\n",
      "Training Accuracy: 0.4287400729770337\n",
      "Test Accuracy: 0.42409500643868936\n",
      "---------- ---------- ---------- ---------- ---------- ---------- ---------- ----------\n",
      "          Original dataset                                                  \\\n",
      "                         0         1         2         3        4 accuracy   \n",
      "precision            0.499     0.205     0.309     0.358    0.505    0.424   \n",
      "recall               0.745     0.101     0.224     0.289    0.358    0.424   \n",
      "f1-score             0.598     0.135     0.260     0.320    0.419    0.424   \n",
      "support           5623.000  2638.000  3377.000  1801.000  539.000    0.424   \n",
      "\n",
      "                                   \n",
      "           macro avg weighted avg  \n",
      "precision      0.375        0.380  \n",
      "recall         0.344        0.424  \n",
      "f1-score       0.346        0.386  \n",
      "support    13978.000    13978.000  \n",
      "---------- ---------- ---------- ---------- ---------- ---------- ---------- ----------\n",
      "Cross Validation Scores: [0.42291642 0.42816263 0.42487479 0.43214882 0.42666349]\n",
      "---------- ---------- ---------- ---------- ---------- ---------- ---------- ----------\n"
     ]
    }
   ],
   "source": [
    "gnb = GaussianNB().fit(X_train, y_train)\n",
    "\n",
    "# Training the Algorithm\n",
    "predictions_gnb = gnb.predict(X_test)\n",
    "print(\"---------- ---------- ---------- ---------- ---------- ---------- ---------- ----------\")\n",
    "print(\"Training Accuracy: \" +str(gnb.score(X_train,y_train)))\n",
    "print(\"Test Accuracy: \" +str(gnb.score(X_test,y_test)))\n",
    "print(\"---------- ---------- ---------- ---------- ---------- ---------- ---------- ----------\")\n",
    "\n",
    "# Classification Report\n",
    "classif_report = pd.concat({\n",
    "    \"Original dataset\": pd.DataFrame(\n",
    "        classification_report(y_test, predictions_gnb, output_dict=True)\n",
    "    )\n",
    "}, axis=1).round(3)\n",
    "print(classif_report)\n",
    "print(\"---------- ---------- ---------- ---------- ---------- ---------- ---------- ----------\")\n",
    "\n",
    "# Cross Validation\n",
    "print(\"Cross Validation Scores:\", cross_val_score(gnb, data_x, data_y, cv=5))\n",
    "print(\"---------- ---------- ---------- ---------- ---------- ---------- ---------- ----------\")"
   ]
  },
  {
   "attachments": {},
   "cell_type": "markdown",
   "metadata": {},
   "source": [
    "#### K-Nearest Neighbors"
   ]
  },
  {
   "cell_type": "code",
   "execution_count": 6,
   "metadata": {},
   "outputs": [
    {
     "name": "stdout",
     "output_type": "stream",
     "text": [
      "---------- ---------- ---------- ---------- ---------- ---------- ---------- ----------\n",
      "Training Accuracy: 0.7736102167847178\n",
      "Test Accuracy: 0.6120331950207469\n",
      "---------- ---------- ---------- ---------- ---------- ---------- ---------- ----------\n",
      "          Original dataset                                                  \\\n",
      "                         0         1         2         3        4 accuracy   \n",
      "precision            0.630     0.542     0.601     0.626    0.684    0.612   \n",
      "recall               0.869     0.433     0.443     0.479    0.310    0.612   \n",
      "f1-score             0.731     0.481     0.510     0.542    0.427    0.612   \n",
      "support           5623.000  2638.000  3377.000  1801.000  539.000    0.612   \n",
      "\n",
      "                                   \n",
      "           macro avg weighted avg  \n",
      "precision      0.617        0.608  \n",
      "recall         0.507        0.612  \n",
      "f1-score       0.538        0.594  \n",
      "support    13978.000    13978.000  \n",
      "---------- ---------- ---------- ---------- ---------- ---------- ---------- ----------\n",
      "Cross Validation Scores: [0.70716585 0.75605103 0.78464107 0.76961603 0.65764369]\n",
      "---------- ---------- ---------- ---------- ---------- ---------- ---------- ----------\n"
     ]
    }
   ],
   "source": [
    "knn = KNeighborsClassifier(n_neighbors = 4).fit(X_train, y_train)\n",
    "\n",
    "# Training the Algorithm\n",
    "predictions_knn = knn.predict(X_test)\n",
    "print(\"---------- ---------- ---------- ---------- ---------- ---------- ---------- ----------\")\n",
    "print(\"Training Accuracy: \" +str(knn.score(X_train,y_train)))\n",
    "print(\"Test Accuracy: \" +str(knn.score(X_test,y_test)))\n",
    "print(\"---------- ---------- ---------- ---------- ---------- ---------- ---------- ----------\")\n",
    "\n",
    "# Classification Report\n",
    "classif_report = pd.concat({\n",
    "    \"Original dataset\": pd.DataFrame(\n",
    "        classification_report(y_test, predictions_knn, output_dict=True)\n",
    "    )\n",
    "}, axis=1).round(3)\n",
    "print(classif_report)\n",
    "print(\"---------- ---------- ---------- ---------- ---------- ---------- ---------- ----------\")\n",
    "\n",
    "# Cross Validation\n",
    "print(\"Cross Validation Scores:\", cross_val_score(knn, data_x, data_y, cv=5))\n",
    "print(\"---------- ---------- ---------- ---------- ---------- ---------- ---------- ----------\")"
   ]
  },
  {
   "attachments": {},
   "cell_type": "markdown",
   "metadata": {},
   "source": [
    "#### Decision Trees"
   ]
  },
  {
   "cell_type": "code",
   "execution_count": 7,
   "metadata": {},
   "outputs": [
    {
     "name": "stdout",
     "output_type": "stream",
     "text": [
      "---------- ---------- ---------- ---------- ---------- ---------- ---------- ----------\n",
      "Training Accuracy: 0.4924876582957716\n",
      "Test Accuracy: 0.48075547288596365\n",
      "---------- ---------- ---------- ---------- ---------- ---------- ---------- ----------\n",
      "          Original dataset                                                  \\\n",
      "                         0         1         2         3        4 accuracy   \n",
      "precision            0.510     0.218     0.369     0.441    0.580    0.481   \n",
      "recall               0.880     0.005     0.212     0.492    0.297    0.481   \n",
      "f1-score             0.646     0.009     0.269     0.465    0.393    0.481   \n",
      "support           5623.000  2638.000  3377.000  1801.000  539.000    0.481   \n",
      "\n",
      "                                   \n",
      "           macro avg weighted avg  \n",
      "precision      0.424        0.415  \n",
      "recall         0.377        0.481  \n",
      "f1-score       0.356        0.402  \n",
      "support    13978.000    13978.000  \n",
      "---------- ---------- ---------- ---------- ---------- ---------- ---------- ----------\n",
      "Cross Validation Scores: [0.48503637 0.48706331 0.48771762 0.48580968 0.47305032]\n",
      "---------- ---------- ---------- ---------- ---------- ---------- ---------- ----------\n"
     ]
    }
   ],
   "source": [
    "DecTree = DecisionTreeClassifier(max_depth = 5).fit(X_train, y_train)\n",
    "\n",
    "# Training the Algorithm\n",
    "predictions_DecTree = DecTree.predict(X_test)\n",
    "print(\"---------- ---------- ---------- ---------- ---------- ---------- ---------- ----------\")\n",
    "print(\"Training Accuracy: \" +str(DecTree.score(X_train,y_train)))\n",
    "print(\"Test Accuracy: \" +str(DecTree.score(X_test,y_test)))\n",
    "print(\"---------- ---------- ---------- ---------- ---------- ---------- ---------- ----------\")\n",
    "\n",
    "# Classification Report\n",
    "classif_report = pd.concat({\n",
    "    \"Original dataset\": pd.DataFrame(\n",
    "        classification_report(y_test, predictions_DecTree, output_dict=True)\n",
    "    )\n",
    "}, axis=1).round(3)\n",
    "print(classif_report)\n",
    "print(\"---------- ---------- ---------- ---------- ---------- ---------- ---------- ----------\")\n",
    "\n",
    "# Cross Validation\n",
    "print(\"Cross Validation Scores:\", cross_val_score(DecTree, data_x, data_y, cv=5))\n",
    "print(\"---------- ---------- ---------- ---------- ---------- ---------- ---------- ----------\")"
   ]
  },
  {
   "attachments": {},
   "cell_type": "markdown",
   "metadata": {},
   "source": [
    "#### Support Vector Machines"
   ]
  },
  {
   "cell_type": "code",
   "execution_count": 8,
   "metadata": {},
   "outputs": [
    {
     "name": "stdout",
     "output_type": "stream",
     "text": [
      "---------- ---------- ---------- ---------- ---------- ---------- ---------- ----------\n",
      "Training Accuracy: 0.5102489804679116\n",
      "Test Accuracy: 0.4896265560165975\n",
      "---------- ---------- ---------- ---------- ---------- ---------- ---------- ----------\n",
      "          Original dataset                                                  \\\n",
      "                         0         1         2         3        4 accuracy   \n",
      "precision            0.486     0.568     0.432     0.546    0.706     0.49   \n",
      "recall               0.960     0.009     0.184     0.353    0.302     0.49   \n",
      "f1-score             0.646     0.019     0.258     0.429    0.423     0.49   \n",
      "support           5623.000  2638.000  3377.000  1801.000  539.000     0.49   \n",
      "\n",
      "                                   \n",
      "           macro avg weighted avg  \n",
      "precision      0.548        0.505  \n",
      "recall         0.362        0.490  \n",
      "f1-score       0.355        0.397  \n",
      "support    13978.000    13978.000  \n",
      "---------- ---------- ---------- ---------- ---------- ---------- ---------- ----------\n",
      "Cross Validation Scores: [0.4914749  0.49982115 0.51120916 0.51085142 0.50011925]\n",
      "---------- ---------- ---------- ---------- ---------- ---------- ---------- ----------\n"
     ]
    }
   ],
   "source": [
    "SVM = SVC(kernel=\"poly\").fit(X_train, y_train)\n",
    "\n",
    "# Training the Algorithm\n",
    "predictions_svm = SVM.predict(X_test)\n",
    "print(\"---------- ---------- ---------- ---------- ---------- ---------- ---------- ----------\")\n",
    "print(\"Training Accuracy: \" +str(SVM.score(X_train,y_train)))\n",
    "print(\"Test Accuracy: \" +str(SVM.score(X_test,y_test)))\n",
    "print(\"---------- ---------- ---------- ---------- ---------- ---------- ---------- ----------\")\n",
    "\n",
    "# Classification Report\n",
    "classif_report = pd.concat({\n",
    "    \"Original dataset\": pd.DataFrame(\n",
    "        classification_report(y_test, predictions_svm, output_dict=True)\n",
    "    )\n",
    "}, axis=1).round(3)\n",
    "print(classif_report)\n",
    "print(\"---------- ---------- ---------- ---------- ---------- ---------- ---------- ----------\")\n",
    "\n",
    "# Cross Validation\n",
    "print(\"Cross Validation Scores:\", cross_val_score(SVM, data_x, data_y, cv=5))\n",
    "print(\"---------- ---------- ---------- ---------- ---------- ---------- ---------- ----------\")"
   ]
  },
  {
   "attachments": {},
   "cell_type": "markdown",
   "metadata": {},
   "source": [
    "#### Random Forest Classifier"
   ]
  },
  {
   "cell_type": "code",
   "execution_count": 9,
   "metadata": {},
   "outputs": [
    {
     "name": "stdout",
     "output_type": "stream",
     "text": [
      "---------- ---------- ---------- ---------- ---------- ---------- ---------- ----------\n",
      "Training Accuracy: 1.0\n",
      "Test Accuracy: 0.6207611961654028\n",
      "---------- ---------- ---------- ---------- ---------- ---------- ---------- ----------\n",
      "          Original dataset                                                  \\\n",
      "                         0         1         2         3        4 accuracy   \n",
      "precision            0.624     0.691     0.588     0.602    0.744    0.621   \n",
      "recall               0.898     0.246     0.509     0.578    0.410    0.621   \n",
      "f1-score             0.736     0.362     0.546     0.590    0.529    0.621   \n",
      "support           5623.000  2638.000  3377.000  1801.000  539.000    0.621   \n",
      "\n",
      "                                   \n",
      "           macro avg weighted avg  \n",
      "precision      0.650        0.630  \n",
      "recall         0.528        0.621  \n",
      "f1-score       0.553        0.593  \n",
      "support    13978.000    13978.000  \n",
      "---------- ---------- ---------- ---------- ---------- ---------- ---------- ----------\n",
      "Cross Validation Scores: [0.66591153 0.70168117 0.7260911  0.70534224 0.60815645]\n",
      "---------- ---------- ---------- ---------- ---------- ---------- ---------- ----------\n"
     ]
    }
   ],
   "source": [
    "RFC = RandomForestClassifier().fit(X_train, y_train)\n",
    "\n",
    "# Training the Algorithm\n",
    "predictions_rfc = RFC.predict(X_test)\n",
    "print(\"---------- ---------- ---------- ---------- ---------- ---------- ---------- ----------\")\n",
    "print(\"Training Accuracy: \" +str(RFC.score(X_train,y_train)))\n",
    "print(\"Test Accuracy: \" +str(RFC.score(X_test,y_test)))\n",
    "print(\"---------- ---------- ---------- ---------- ---------- ---------- ---------- ----------\")\n",
    "\n",
    "# Classification Report\n",
    "classif_report = pd.concat({\n",
    "    \"Original dataset\": pd.DataFrame(\n",
    "        classification_report(y_test, predictions_rfc, output_dict=True)\n",
    "    )\n",
    "}, axis=1).round(3)\n",
    "print(classif_report)\n",
    "print(\"---------- ---------- ---------- ---------- ---------- ---------- ---------- ----------\")\n",
    "\n",
    "# Cross Validation\n",
    "print(\"Cross Validation Scores:\", cross_val_score(RFC, data_x, data_y, cv=5))\n",
    "print(\"---------- ---------- ---------- ---------- ---------- ---------- ---------- ----------\")"
   ]
  },
  {
   "attachments": {},
   "cell_type": "markdown",
   "metadata": {},
   "source": [
    "#### XGBoost"
   ]
  },
  {
   "cell_type": "code",
   "execution_count": 10,
   "metadata": {},
   "outputs": [
    {
     "name": "stdout",
     "output_type": "stream",
     "text": [
      "---------- ---------- ---------- ---------- ---------- ---------- ---------- ----------\n",
      "Training Accuracy: 0.5754453745438936\n",
      "Test Accuracy: 0.5268994133638575\n",
      "---------- ---------- ---------- ---------- ---------- ---------- ---------- ----------\n",
      "          Original dataset                                                  \\\n",
      "                         0         1         2         3        4 accuracy   \n",
      "precision            0.553     0.405     0.436     0.530    0.626    0.527   \n",
      "recall               0.883     0.029     0.355     0.503    0.404    0.527   \n",
      "f1-score             0.680     0.054     0.392     0.516    0.492    0.527   \n",
      "support           5623.000  2638.000  3377.000  1801.000  539.000    0.527   \n",
      "\n",
      "                                   \n",
      "           macro avg weighted avg  \n",
      "precision      0.510        0.497  \n",
      "recall         0.435        0.527  \n",
      "f1-score       0.427        0.464  \n",
      "support    13978.000    13978.000  \n",
      "---------- ---------- ---------- ---------- ---------- ---------- ---------- ----------\n",
      "Cross Validation Scores: [0.52748301 0.53177537 0.53458145 0.53827808 0.52086811]\n",
      "---------- ---------- ---------- ---------- ---------- ---------- ---------- ----------\n"
     ]
    }
   ],
   "source": [
    "XGBoost = GradientBoostingClassifier().fit(X_train, y_train)\n",
    "\n",
    "# Training the Algorithm\n",
    "predictions_xgb = XGBoost.predict(X_test)\n",
    "print(\"---------- ---------- ---------- ---------- ---------- ---------- ---------- ----------\")\n",
    "print(\"Training Accuracy: \" +str(XGBoost.score(X_train,y_train)))\n",
    "print(\"Test Accuracy: \" +str(XGBoost.score(X_test,y_test)))\n",
    "print(\"---------- ---------- ---------- ---------- ---------- ---------- ---------- ----------\")\n",
    "\n",
    "# Classification Report\n",
    "classif_report = pd.concat({\n",
    "    \"Original dataset\": pd.DataFrame(\n",
    "        classification_report(y_test, predictions_xgb, output_dict=True)\n",
    "    )\n",
    "}, axis=1).round(3)\n",
    "print(classif_report)\n",
    "print(\"---------- ---------- ---------- ---------- ---------- ---------- ---------- ----------\")\n",
    "\n",
    "# Cross Validation\n",
    "print(\"Cross Validation Scores:\", cross_val_score(XGBoost, data_x, data_y, cv=5))\n",
    "print(\"---------- ---------- ---------- ---------- ---------- ---------- ---------- ----------\")"
   ]
  }
 ],
 "metadata": {
  "kernelspec": {
   "display_name": "base",
   "language": "python",
   "name": "python3"
  },
  "language_info": {
   "codemirror_mode": {
    "name": "ipython",
    "version": 3
   },
   "file_extension": ".py",
   "mimetype": "text/x-python",
   "name": "python",
   "nbconvert_exporter": "python",
   "pygments_lexer": "ipython3",
   "version": "3.9.7"
  },
  "orig_nbformat": 4
 },
 "nbformat": 4,
 "nbformat_minor": 2
}
